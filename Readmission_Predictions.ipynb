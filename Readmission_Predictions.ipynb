{
 "cells": [
  {
   "cell_type": "markdown",
   "metadata": {},
   "source": [
    "# Table Of Contents\n",
    "\n",
    "1. Introduction\n",
    "2. Challenges in Solving Hospital Return Visits\n",
    "3. Dataset Description\n",
    "    - 3.1. Overview\n",
    "    - 3.2. Readmission Categorization\n",
    "    - 3.3. Features in the Dataset\n",
    "4. Project Setup\n",
    "5. Exploratory Data Analysis \n",
    "    - 5.1. Feature Type Classification\n",
    "    - 5.2 Exploration of Categorical Variables and Data Distribution\n",
    "    - 5.3 Data Insights through Violin Plots\n",
    "    - 5.4 Exploring Age Groups in the Dataset\n",
    "        - 5.4.1 Analysis 1: Number of Medications Across Age Groups by Readmission Status\n",
    "        - 5.4.2 Analysis 2: Readmission Rates Across Age Groups\n",
    "\n",
    "6. Data cleaning and pre-processing\n",
    "7. Machine Learning Model Evaluation and Hyperparameter Tuning\n",
    "        - 7.1. Model Selection and Justification\n",
    "    - 7.2. Selection of Performance Metrics\n",
    "    - 7.3. Cross-Validation and Hyperparameter Tuning for SVM\n",
    "    - 7.4 In-depth Analysis of Cross-Validation and Pre-processing Strategies\n",
    "    - 7.5 Plotting Model Performance with Hyper-Parameters\n",
    "    - 7.6 Model Performance Overview: Mean and Std Metrics\n",
    "8. Baseline Model Creation and Evaluation\n",
    "9. Final Model Performance Evaluation\n",
    "10. Comparison of Final Model v/s Baseline Model Metrics\n",
    "11. Conclusion: Comparison and Insights from Both Models\n"
   ]
  },
  {
   "cell_type": "markdown",
   "metadata": {},
   "source": [
    "### Introduction\n",
    "\n",
    "Diabetes makes sugar levels in the blood too high. Checking diabetic patients while they're in the hospital is really important. This study wants to figure out if a diabetic patient might come back to the hospital within 30 days. Knowing this could help save money on treatment, solve medical problems, and make sure patients stay healthy and safe. They used information from Virginia Commonwealth University to do this study. \n",
    "\n",
    "### Challenges in Solving Hospital Return Visits\n",
    "\n",
    "Many things make it hard to stop people from coming back to the hospital after they leave. Some health problems are really tough to handle, especially when someone has many of them or a sickness that stays for a long time. Also, sometimes different parts of the hospital or different doctors don't talk to each other well, so patients don't get the right care when they need it. People who leave the hospital might find it tough to understand what the doctors tell them to do, get help they need, or know how to take care of themselves, mostly because of money problems, not having enough help, or not knowing enough. After leaving the hospital, some folks don't get the help they need at home or the right medicine. Hospitals might also not try hard enough to keep people from coming back because of how they get paid. Lastly, gathering all the information about a patient from different places to know who needs extra help to avoid coming back to the hospital is really hard."
   ]
  },
  {
   "cell_type": "markdown",
   "metadata": {},
   "source": [
    "### Dataset Description\n",
    "\n",
    "#### Overview\n",
    "\n",
    "The dataset (https://archive.ics.uci.edu/ml/datasets/Diabetes+130-US+hospitals+for+years+1999-2008) used in this study covers ten years (1999-2008) and includes information from 130 hospitals and healthcare networks in the US. Each entry in the dataset relates to hospital records of patients diagnosed with diabetes. It contains details about their lab tests, medicines they took, and how long they stayed, for up to 14 days. The main aim is to figure out if these patients might need to go back to the hospital within 30 days after leaving.\n",
    "\n",
    "#### Readmission Categorization\n",
    "\n",
    "In the dataset, there are three distinct classes used for readmission categorization:\n",
    "\n",
    "1. `<30` indicates patients who were readmitted in less than 30 days.\n",
    "2. `>30` represents patients who were readmitted in more than 30 days.\n",
    "3. `No` signifies no record of readmission.\n",
    "\n",
    "To streamline the classification task, we categorize patients into two groups: those with no record of readmission versus those with a record of readmission, achieved by consolidating the classes labeled as \"<30\" and \">30\".\n",
    "\n",
    "#### Features in the Dataset\n",
    "\n",
    "The dataset comprises various features that provide detailed information about patient encounters in hospitals. Some of the features include:\n",
    "\n",
    "1. **Encounter ID and Patient Number:** Unique identifiers for each patient's encounter and individual patient in the dataset.\n",
    "\n",
    "2. **Race and Gender:** Categorical features representing the patient's race and gender. Race includes categories such as Caucasian, Asian, African American, Hispanic, and others. Gender includes male, female, and unknown/invalid values.\n",
    "\n",
    "3. **Age:** Categorized into 10-year intervals ranging from 0 to 100 years old.\n",
    "\n",
    "4. **Weight:** Indicates the patient's weight in pounds.\n",
    "\n",
    "5. **Admission Type, Discharge Disposition, and Admission Source IDs:** Categorical features represented by integer identifiers, signifying details about the admission type, discharge disposition, and admission source.\n",
    "\n",
    "6. **Time in Hospital:** Represents the duration of the patient's hospital stay in days.\n",
    "\n",
    "7. **Payer Code and Medical Specialty:** Categorical features denoting the payer code and medical specialty, providing information about the patient's insurance payer and the admitting physician's specialty.\n",
    "\n",
    "8. **Number of Lab Procedures, Procedures, and Medications:** Numeric features indicating the count of lab procedures, non-lab procedures, and distinct medications administered during the patient encounter.\n",
    "\n",
    "9. **Number of Outpatient, Emergency, and Inpatient Visits:** Numeric features indicating the count of outpatient, emergency, and inpatient visits of the patient in the year before the encounter.\n",
    "\n",
    "10. **Diagnosis Codes (Diag_1, Diag_2):** Categorical features representing primary and secondary diagnoses using codes from the International Classification of Diseases, 9th Revision (ICD9). These codes signify specific medical diagnoses or conditions.\n",
    "\n",
    "11. **A1Cresult:** Another categorical feature representing the range of a test result or indicating if the test wasn't conducted. The values include >8 if the result was greater than 8%, >7 if between 7% and 8%, normal if less than 7%, and none if the test wasn't conducted. No missing values are present for this feature.\n",
    "\n",
    "12. **Medication Features (e.g., Metformin, Repaglinide, Nateglinide, Chlorpropamide, Glimepiride, Acetohexamide):** These categorical features indicate if a drug was prescribed or if there was a change in dosage during the patient encounter. Values include 'up' for increased dosage, 'down' for decreased dosage, 'steady' for unchanged dosage, and 'no' if the drug was not prescribed. There are no missing values for these features."
   ]
  },
  {
   "cell_type": "markdown",
   "metadata": {},
   "source": [
    "### Setup and Library Imports"
   ]
  },
  {
   "cell_type": "code",
   "execution_count": 2,
   "metadata": {},
   "outputs": [],
   "source": [
    "import pandas as pd\n",
    "import numpy as np\n",
    "from matplotlib import pyplot as plt\n",
    "import seaborn as sns\n",
    "from sklearn.model_selection import train_test_split\n",
    "from sklearn.pipeline import Pipeline\n",
    "from sklearn.compose import ColumnTransformer\n",
    "from sklearn.preprocessing import LabelEncoder, OrdinalEncoder, OneHotEncoder\n",
    "from sklearn.preprocessing import StandardScaler\n",
    "from sklearn.impute import SimpleImputer\n",
    "\n",
    "\n",
    "import warnings\n",
    "warnings.filterwarnings(\"ignore\")"
   ]
  },
  {
   "cell_type": "markdown",
   "metadata": {},
   "source": [
    "### Loading Dataset and Initial Data Exploration"
   ]
  },
  {
   "cell_type": "code",
   "execution_count": 3,
   "metadata": {},
   "outputs": [
    {
     "name": "stdout",
     "output_type": "stream",
     "text": [
      "The shape of the dataset is: (101766, 50)\n",
      "\n",
      "The type of the columns is:\n",
      "object    37\n",
      "int64     13\n",
      "Name: count, dtype: int64\n"
     ]
    }
   ],
   "source": [
    "path = 'diabetic_data.csv'\n",
    "dataset = pd.read_csv(path)\n",
    "\n",
    "print(f'The shape of the dataset is: {dataset.shape}\\n')\n",
    "print(f'The type of the columns is:\\n{dataset.dtypes.value_counts()}')"
   ]
  },
  {
   "cell_type": "markdown",
   "metadata": {},
   "source": [
    "#### Feature Type Classification"
   ]
  },
  {
   "cell_type": "markdown",
   "metadata": {},
   "source": [
    "The data contains 50 features and 101766 samples, which makes the sample-to-feature ratio 2035:1\n",
    "\n",
    "Out of 50, the dataset consists of:\n",
    "- categorical features = 37 continuous features = 13"
   ]
  },
  {
   "cell_type": "code",
   "execution_count": 4,
   "metadata": {},
   "outputs": [
    {
     "name": "stdout",
     "output_type": "stream",
     "text": [
      "\n",
      "Categorical Features Identification:\n",
      "\n",
      "\n",
      "['race', 'gender', 'age', 'weight', 'admission_type_id', 'time_in_hospital', 'payer_code', 'medical_specialty', 'num_procedures', 'diag_1', 'diag_2', 'diag_3', 'max_glu_serum', 'A1Cresult', 'metformin', 'repaglinide', 'nateglinide', 'chlorpropamide', 'glimepiride', 'acetohexamide', 'glipizide', 'glyburide', 'tolbutamide', 'pioglitazone', 'rosiglitazone', 'acarbose', 'miglitol', 'troglitazone', 'tolazamide', 'examide', 'citoglipton', 'insulin', 'glyburide-metformin', 'glipizide-metformin', 'glimepiride-pioglitazone', 'metformin-rosiglitazone', 'metformin-pioglitazone', 'change', 'diabetesMed', 'readmitted']\n",
      "\n",
      "Continuous Features Identification:\n",
      "\n",
      "\n",
      "['encounter_id', 'patient_nbr', 'discharge_disposition_id', 'admission_source_id', 'num_lab_procedures', 'num_medications', 'number_outpatient', 'number_emergency', 'number_inpatient', 'number_diagnoses']\n",
      "\n",
      "Sample Rows:\n",
      "\n",
      "\n",
      "   encounter_id  patient_nbr             race  gender      age weight  \\\n",
      "0       2278392      8222157        Caucasian  Female   [0-10)      ?   \n",
      "1        149190     55629189        Caucasian  Female  [10-20)      ?   \n",
      "2         64410     86047875  AfricanAmerican  Female  [20-30)      ?   \n",
      "3        500364     82442376        Caucasian    Male  [30-40)      ?   \n",
      "4         16680     42519267        Caucasian    Male  [40-50)      ?   \n",
      "\n",
      "   admission_type_id  discharge_disposition_id  admission_source_id  \\\n",
      "0                  6                        25                    1   \n",
      "1                  1                         1                    7   \n",
      "2                  1                         1                    7   \n",
      "3                  1                         1                    7   \n",
      "4                  1                         1                    7   \n",
      "\n",
      "   time_in_hospital  ... citoglipton insulin  glyburide-metformin  \\\n",
      "0                 1  ...          No      No                   No   \n",
      "1                 3  ...          No      Up                   No   \n",
      "2                 2  ...          No      No                   No   \n",
      "3                 2  ...          No      Up                   No   \n",
      "4                 1  ...          No  Steady                   No   \n",
      "\n",
      "   glipizide-metformin  glimepiride-pioglitazone  metformin-rosiglitazone  \\\n",
      "0                   No                        No                       No   \n",
      "1                   No                        No                       No   \n",
      "2                   No                        No                       No   \n",
      "3                   No                        No                       No   \n",
      "4                   No                        No                       No   \n",
      "\n",
      "   metformin-pioglitazone  change diabetesMed readmitted  \n",
      "0                      No      No          No         NO  \n",
      "1                      No      Ch         Yes        >30  \n",
      "2                      No      No         Yes         NO  \n",
      "3                      No      Ch         Yes         NO  \n",
      "4                      No      Ch         Yes         NO  \n",
      "\n",
      "[5 rows x 50 columns]\n"
     ]
    }
   ],
   "source": [
    "categorical_features = []  \n",
    "continuous_features = []   \n",
    "\n",
    "\n",
    "for column in dataset.columns:\n",
    "    \n",
    "    if dataset[column].dtype == 'object':\n",
    "        categorical_features.append(column)\n",
    "    else:\n",
    "        \n",
    "        unique_values = dataset[column].nunique()\n",
    "        if unique_values <= 15:  \n",
    "            categorical_features.append(column)\n",
    "        else:\n",
    "            continuous_features.append(column)\n",
    "\n",
    "\n",
    "sample_rows = dataset.head(5)\n",
    "\n",
    "\n",
    "print(\"\\nCategorical Features Identification:\")\n",
    "print(\"\\n\")\n",
    "print(categorical_features)\n",
    "print(\"\\nContinuous Features Identification:\")\n",
    "print(\"\\n\")\n",
    "print(continuous_features)\n",
    "\n",
    "print(\"\\nSample Rows:\")\n",
    "print(\"\\n\")\n",
    "print(sample_rows)\n"
   ]
  },
  {
   "cell_type": "markdown",
   "metadata": {},
   "source": [
    "> We observe that the dataset has '?' value for many features in the dataset. The feature weight has most of the values as '?'.\n"
   ]
  }
 ],
 "metadata": {
  "kernelspec": {
   "display_name": "Python 3",
   "language": "python",
   "name": "python3"
  },
  "language_info": {
   "codemirror_mode": {
    "name": "ipython",
    "version": 3
   },
   "file_extension": ".py",
   "mimetype": "text/x-python",
   "name": "python",
   "nbconvert_exporter": "python",
   "pygments_lexer": "ipython3",
   "version": "3.8.10"
  }
 },
 "nbformat": 4,
 "nbformat_minor": 2
}
