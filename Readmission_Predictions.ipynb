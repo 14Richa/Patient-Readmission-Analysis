{
 "cells": [
  {
   "cell_type": "markdown",
   "metadata": {},
   "source": [
    "### Dataset description\n",
    "\n",
    "The dataset is focused on hospital-related information spanning the years 1999-2008, and it is available at https://archive.ics.uci.edu/ml/datasets/Diabetes+130-US+hospitals+for+years+1999-2008. It comprises over 50 features that represent both patient and hospital outcomes. The aim is to predict which patients will need hospital readmission.\n",
    "\n",
    "In the dataset, there are three distinct classes used for readmission categorization:\n",
    "\n",
    "1. `<30` indicates patients who were readmitted in less than 30 days.\n",
    "2. `>30` represents patients who were readmitted in more than 30 days.\n",
    "3. `No` signifies no record of readmission.\n",
    "\n",
    "To streamline the classification task, we categorize patients into two groups: those with no record of readmission versus those with a record of readmission, achieved by consolidating the classes labeled as \"<30\" and \">30\"."
   ]
  },
  {
   "cell_type": "markdown",
   "metadata": {},
   "source": [
    "### Setup and Library Imports"
   ]
  },
  {
   "cell_type": "code",
   "execution_count": 1,
   "metadata": {},
   "outputs": [],
   "source": [
    "import pandas as pd\n",
    "import numpy as np\n",
    "from matplotlib import pyplot as plt\n",
    "import seaborn as sns\n",
    "from sklearn.model_selection import train_test_split\n",
    "from sklearn.pipeline import Pipeline\n",
    "from sklearn.compose import ColumnTransformer\n",
    "from sklearn.preprocessing import LabelEncoder, OrdinalEncoder, OneHotEncoder\n",
    "from sklearn.preprocessing import StandardScaler\n",
    "from sklearn.impute import SimpleImputer\n",
    "\n",
    "\n",
    "import warnings\n",
    "warnings.filterwarnings(\"ignore\")"
   ]
  },
  {
   "cell_type": "markdown",
   "metadata": {},
   "source": [
    "### Loading Dataset and Initial Data Exploration"
   ]
  },
  {
   "cell_type": "code",
   "execution_count": 2,
   "metadata": {},
   "outputs": [
    {
     "name": "stdout",
     "output_type": "stream",
     "text": [
      "The shape of the dataset is: (101766, 50)\n",
      "\n",
      "The type of the columns is:\n",
      "object    37\n",
      "int64     13\n",
      "Name: count, dtype: int64\n"
     ]
    }
   ],
   "source": [
    "path = 'diabetic_data.csv'\n",
    "dataset = pd.read_csv(path)\n",
    "\n",
    "print(f'The shape of the dataset is: {dataset.shape}\\n')\n",
    "print(f'The type of the columns is:\\n{dataset.dtypes.value_counts()}')"
   ]
  },
  {
   "cell_type": "markdown",
   "metadata": {},
   "source": [
    "The data contains 50 features and 101766 samples, which makes the sample-to-feature ratio 2035:1\n",
    "\n",
    "Out of 50, the dataset consists of:\n",
    "- categorical features = 37 continuous features = 13"
   ]
  },
  {
   "cell_type": "markdown",
   "metadata": {},
   "source": [
    "### Exploration of Categorical Variables and Data Distribution"
   ]
  },
  {
   "cell_type": "code",
   "execution_count": 3,
   "metadata": {},
   "outputs": [
    {
     "name": "stdout",
     "output_type": "stream",
     "text": [
      "List of Distinct Races:\n",
      " ['Caucasian' 'AfricanAmerican' '?' 'Other' 'Asian' 'Hispanic']\n",
      "\n",
      "List of Distinct Weight:\n",
      " ['?' '[75-100)' '[50-75)' '[0-25)' '[100-125)' '[25-50)' '[125-150)'\n",
      " '[175-200)' '[150-175)' '>200']\n",
      "\n",
      "race 2273\n",
      "gender 0\n",
      "age 0\n",
      "weight 98569\n",
      "payer_code 40256\n",
      "medical_specialty 49949\n",
      "diag_1 21\n",
      "diag_2 358\n",
      "diag_3 1423\n",
      "max_glu_serum 0\n",
      "A1Cresult 0\n",
      "metformin 0\n",
      "repaglinide 0\n",
      "nateglinide 0\n",
      "chlorpropamide 0\n",
      "glimepiride 0\n",
      "acetohexamide 0\n",
      "glipizide 0\n",
      "glyburide 0\n",
      "tolbutamide 0\n",
      "pioglitazone 0\n",
      "rosiglitazone 0\n",
      "acarbose 0\n",
      "miglitol 0\n",
      "troglitazone 0\n",
      "tolazamide 0\n",
      "examide 0\n",
      "citoglipton 0\n",
      "insulin 0\n",
      "glyburide-metformin 0\n",
      "glipizide-metformin 0\n",
      "glimepiride-pioglitazone 0\n",
      "metformin-rosiglitazone 0\n",
      "metformin-pioglitazone 0\n",
      "change 0\n",
      "diabetesMed 0\n",
      "readmitted 0\n"
     ]
    }
   ],
   "source": [
    "print(f'List of Distinct Races:\\n {dataset.race.unique()}\\n')\n",
    "print(f'List of Distinct Weights:\\n {dataset.weight.unique()}\\n')\n",
    "\n",
    "for column in dataset.columns:\n",
    "     if dataset[column].dtype == object:\n",
    "            print(column,dataset[column][dataset[column] == '?'].count())\n",
    "            dataset[column] = dataset[column].replace('?',np.nan).fillna(0)"
   ]
  },
  {
   "cell_type": "markdown",
   "metadata": {},
   "source": [
    "> We observe that the dataset has '?' value for many features in the dataset. The feature weight has most of the values as '?'.\n"
   ]
  }
 ],
 "metadata": {
  "kernelspec": {
   "display_name": "Python 3",
   "language": "python",
   "name": "python3"
  },
  "language_info": {
   "codemirror_mode": {
    "name": "ipython",
    "version": 3
   },
   "file_extension": ".py",
   "mimetype": "text/x-python",
   "name": "python",
   "nbconvert_exporter": "python",
   "pygments_lexer": "ipython3",
   "version": "3.8.10"
  }
 },
 "nbformat": 4,
 "nbformat_minor": 2
}
