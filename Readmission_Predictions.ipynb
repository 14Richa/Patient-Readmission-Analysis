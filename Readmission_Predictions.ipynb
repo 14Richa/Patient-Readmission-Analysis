{
 "cells": [
  {
   "cell_type": "markdown",
   "metadata": {},
   "source": [
    "### Dataset description\n",
    "\n",
    "The dataset is focused on hospital-related information spanning the years 1999-2008, and it is available at https://archive.ics.uci.edu/ml/datasets/Diabetes+130-US+hospitals+for+years+1999-2008. It comprises over 50 features that represent both patient and hospital outcomes. The aim is to predict which patients will need hospital readmission.\n",
    "\n",
    "In the dataset, there are three distinct classes used for readmission categorization:\n",
    "\n",
    "1. `<30` indicates patients who were readmitted in less than 30 days.\n",
    "2. `>30` represents patients who were readmitted in more than 30 days.\n",
    "3. `No` signifies no record of readmission.\n",
    "\n",
    "To streamline the classification task, we categorize patients into two groups: those with no record of readmission versus those with a record of readmission, achieved by consolidating the classes labeled as \"<30\" and \">30\"."
   ]
  }
 ],
 "metadata": {
  "kernelspec": {
   "display_name": "Python 3",
   "language": "python",
   "name": "python3"
  },
  "language_info": {
   "codemirror_mode": {
    "name": "ipython",
    "version": 3
   },
   "file_extension": ".py",
   "mimetype": "text/x-python",
   "name": "python",
   "nbconvert_exporter": "python",
   "pygments_lexer": "ipython3",
   "version": "3.8.10"
  }
 },
 "nbformat": 4,
 "nbformat_minor": 2
}
